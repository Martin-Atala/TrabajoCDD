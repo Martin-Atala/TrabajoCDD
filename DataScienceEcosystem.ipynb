{
 "cells": [
  {
   "cell_type": "markdown",
   "id": "f1f225d7-202c-4f73-b96b-659fa87814d7",
   "metadata": {},
   "source": [
    "# Data Science Tools and Ecosystem"
   ]
  },
  {
   "cell_type": "markdown",
   "id": "d1f1d3a1-96b6-4103-aaa8-7f35dde24857",
   "metadata": {},
   "source": [
    "En este cuaderno se resumen las herramientas aprendidas durante los modulos anteriores respecto a ciencia de datos."
   ]
  },
  {
   "cell_type": "markdown",
   "id": "e85a98cc-5478-4f78-bc42-32c88cdafa4a",
   "metadata": {
    "jp-MarkdownHeadingCollapsed": true
   },
   "source": [
    " **Objetivos:**\n",
    "* Crear un Jupyter Notebook\n",
    "* Aprender a utilizar celdas de code y markdown\n",
    "* Solucionar problemas matemáticos básicos "
   ]
  },
  {
   "cell_type": "markdown",
   "id": "ae31635f-bf9c-4d6d-85c4-3ff02841cf8a",
   "metadata": {},
   "source": [
    "Algunos de los lenguajes populares que utilizan los científicos de datos son:\n",
    "1. Python\n",
    "2. SQL\n",
    "3. R\n",
    "4. Java"
   ]
  },
  {
   "cell_type": "markdown",
   "id": "b5637af4-c6ca-4ca2-87b8-3c886a8ad565",
   "metadata": {},
   "source": [
    "Algunas de las bibliotecas utilizadas en la ciencia de datos son: \n",
    "1. Pandas\n",
    "2. NumPy\n",
    "3. Matplotlib\n",
    "4. Seaborn"
   ]
  },
  {
   "cell_type": "markdown",
   "id": "9707e3fa-a112-43c9-a3ea-fed6adeb2077",
   "metadata": {},
   "source": [
    "| Herramientas de Ciencia de Datos |\n",
    "|-----------|\n",
    "|Visual Studio Code |\n",
    "|Jupyter Notebook/JupyterLab |\n",
    "|RStudio |\n"
   ]
  },
  {
   "cell_type": "markdown",
   "id": "c5cfe3f5-d7aa-4e15-a08b-1f0e437b064f",
   "metadata": {},
   "source": [
    "### A continuación, se aprecian algunos ejemplos de evaluación de expresiones matematicas en Python"
   ]
  },
  {
   "cell_type": "code",
   "execution_count": 4,
   "id": "dc281384-bf4d-4c20-9760-de9ea9820756",
   "metadata": {},
   "outputs": [
    {
     "name": "stdout",
     "output_type": "stream",
     "text": [
      "17\n"
     ]
    }
   ],
   "source": [
    "# Esta expresión ,matematica multiplica y luego suma el entero.\n",
    "Resultado = (3*4)+5\n",
    "print(Resultado)"
   ]
  },
  {
   "cell_type": "code",
   "execution_count": 7,
   "id": "d678ac5f-ef65-4631-a921-e87749d06392",
   "metadata": {},
   "outputs": [
    {
     "name": "stdout",
     "output_type": "stream",
     "text": [
      "3.3333333333333335 Horas\n"
     ]
    }
   ],
   "source": [
    " #Esto convertirá 200 minutos a horas dividiendo por 60\n",
    "Resultado9 = 200/60\n",
    "print(Resultado9, \"Horas\")"
   ]
  },
  {
   "cell_type": "markdown",
   "id": "124d7cbf-4dea-4938-ae72-95b0705dce78",
   "metadata": {},
   "source": [
    "## Autor\n",
    "Martín Karim Atala Céspedes "
   ]
  },
  {
   "cell_type": "code",
   "execution_count": null,
   "id": "73e0deb4-43d4-4162-b9ba-c6b92026ca30",
   "metadata": {},
   "outputs": [],
   "source": []
  }
 ],
 "metadata": {
  "kernelspec": {
   "display_name": "Python 3 (ipykernel)",
   "language": "python",
   "name": "python3"
  },
  "language_info": {
   "codemirror_mode": {
    "name": "ipython",
    "version": 3
   },
   "file_extension": ".py",
   "mimetype": "text/x-python",
   "name": "python",
   "nbconvert_exporter": "python",
   "pygments_lexer": "ipython3",
   "version": "3.12.8"
  }
 },
 "nbformat": 4,
 "nbformat_minor": 5
}
